{
 "cells": [
  {
   "cell_type": "code",
   "execution_count": 161,
   "metadata": {},
   "outputs": [
    {
     "name": "stdout",
     "output_type": "stream",
     "text": [
      "2.1.0+cu121\n"
     ]
    }
   ],
   "source": [
    "import torch\n",
    "print(torch.__version__)\n",
    "import pandas as pd\n",
    "import numpy as np\n",
    "import matplotlib.pyplot as plt"
   ]
  },
  {
   "cell_type": "code",
   "execution_count": 162,
   "metadata": {},
   "outputs": [
    {
     "name": "stdout",
     "output_type": "stream",
     "text": [
      "tensor(7)\n"
     ]
    }
   ],
   "source": [
    "#  scalar\n",
    "scalar = torch.tensor(7) \n",
    "print(scalar)"
   ]
  },
  {
   "cell_type": "code",
   "execution_count": 163,
   "metadata": {},
   "outputs": [
    {
     "name": "stdout",
     "output_type": "stream",
     "text": [
      "0\n"
     ]
    }
   ],
   "source": [
    "print(scalar.ndim)"
   ]
  },
  {
   "cell_type": "code",
   "execution_count": 164,
   "metadata": {},
   "outputs": [
    {
     "name": "stdout",
     "output_type": "stream",
     "text": [
      "7\n"
     ]
    }
   ],
   "source": [
    "print(scalar.item())"
   ]
  },
  {
   "cell_type": "code",
   "execution_count": 165,
   "metadata": {},
   "outputs": [
    {
     "data": {
      "text/plain": [
       "tensor([1, 1])"
      ]
     },
     "execution_count": 165,
     "metadata": {},
     "output_type": "execute_result"
    }
   ],
   "source": [
    "# Vector\n",
    "vector = torch.tensor([1, 1])\n",
    "vector"
   ]
  },
  {
   "cell_type": "code",
   "execution_count": 166,
   "metadata": {},
   "outputs": [
    {
     "data": {
      "text/plain": [
       "torch.Size([2])"
      ]
     },
     "execution_count": 166,
     "metadata": {},
     "output_type": "execute_result"
    }
   ],
   "source": [
    "vector.shape"
   ]
  },
  {
   "cell_type": "code",
   "execution_count": 167,
   "metadata": {},
   "outputs": [
    {
     "data": {
      "text/plain": [
       "tensor([[ 7,  8],\n",
       "        [ 9, 10]])"
      ]
     },
     "execution_count": 167,
     "metadata": {},
     "output_type": "execute_result"
    }
   ],
   "source": [
    "# MATRIX\n",
    "matrix = torch.tensor([[7, 8], \n",
    "                       [9, 10]])\n",
    "matrix"
   ]
  },
  {
   "cell_type": "code",
   "execution_count": 168,
   "metadata": {},
   "outputs": [
    {
     "data": {
      "text/plain": [
       "tensor([7, 8])"
      ]
     },
     "execution_count": 168,
     "metadata": {},
     "output_type": "execute_result"
    }
   ],
   "source": [
    "matrix[0]"
   ]
  },
  {
   "cell_type": "code",
   "execution_count": 169,
   "metadata": {},
   "outputs": [
    {
     "data": {
      "text/plain": [
       "torch.Size([2, 2])"
      ]
     },
     "execution_count": 169,
     "metadata": {},
     "output_type": "execute_result"
    }
   ],
   "source": [
    "matrix.shape"
   ]
  },
  {
   "cell_type": "code",
   "execution_count": 170,
   "metadata": {},
   "outputs": [
    {
     "data": {
      "text/plain": [
       "tensor([[[1, 2, 3],\n",
       "         [3, 6, 9],\n",
       "         [2, 4, 5]]])"
      ]
     },
     "execution_count": 170,
     "metadata": {},
     "output_type": "execute_result"
    }
   ],
   "source": [
    "# TENSOR\n",
    "TENSOR = torch.tensor([[[1, 2, 3], \n",
    "                        [3, 6, 9], \n",
    "                        [2, 4, 5]]])\n",
    "TENSOR"
   ]
  },
  {
   "cell_type": "code",
   "execution_count": 171,
   "metadata": {},
   "outputs": [
    {
     "data": {
      "text/plain": [
       "3"
      ]
     },
     "execution_count": 171,
     "metadata": {},
     "output_type": "execute_result"
    }
   ],
   "source": [
    "TENSOR.ndim"
   ]
  },
  {
   "cell_type": "code",
   "execution_count": 172,
   "metadata": {},
   "outputs": [
    {
     "data": {
      "text/plain": [
       "torch.Size([1, 3, 3])"
      ]
     },
     "execution_count": 172,
     "metadata": {},
     "output_type": "execute_result"
    }
   ],
   "source": [
    "TENSOR.shape"
   ]
  },
  {
   "cell_type": "markdown",
   "metadata": {},
   "source": [
    "### random tensors"
   ]
  },
  {
   "cell_type": "code",
   "execution_count": 173,
   "metadata": {},
   "outputs": [
    {
     "data": {
      "text/plain": [
       "tensor([[[0.7337, 0.8426, 0.5254, 0.1192, 0.8150, 0.5552, 0.0720, 0.7763,\n",
       "          0.5997, 0.6236],\n",
       "         [0.8828, 0.8254, 0.4195, 0.6911, 0.8054, 0.8969, 0.1099, 0.9399,\n",
       "          0.9385, 0.7910],\n",
       "         [0.6519, 0.6518, 0.1597, 0.6348, 0.4363, 0.7792, 0.7729, 0.4161,\n",
       "          0.9873, 0.1084],\n",
       "         [0.5691, 0.9368, 0.1649, 0.8992, 0.9081, 0.8996, 0.9207, 0.2480,\n",
       "          0.1793, 0.2811],\n",
       "         [0.9064, 0.4318, 0.9815, 0.2991, 0.7877, 0.9814, 0.8058, 0.9976,\n",
       "          0.3800, 0.0816],\n",
       "         [0.0333, 0.7730, 0.6748, 0.4286, 0.3036, 0.8547, 0.1621, 0.3596,\n",
       "          0.5364, 0.9696],\n",
       "         [0.7023, 0.3492, 0.7771, 0.0157, 0.5758, 0.4005, 0.5876, 0.6350,\n",
       "          0.5283, 0.9492],\n",
       "         [0.3370, 0.5341, 0.3019, 0.0194, 0.7261, 0.3013, 0.2594, 0.9451,\n",
       "          0.4381, 0.6971],\n",
       "         [0.3675, 0.9445, 0.0367, 0.8776, 0.7020, 0.0628, 0.5718, 0.8584,\n",
       "          0.6010, 0.3850],\n",
       "         [0.5323, 0.7977, 0.1858, 0.7535, 0.1235, 0.7423, 0.7884, 0.4810,\n",
       "          0.5729, 0.7501]],\n",
       "\n",
       "        [[0.2562, 0.1949, 0.9060, 0.2474, 0.9638, 0.3612, 0.8427, 0.1142,\n",
       "          0.6778, 0.4110],\n",
       "         [0.0184, 0.1099, 0.7796, 0.7007, 0.4260, 0.3030, 0.5734, 0.0647,\n",
       "          0.1398, 0.8305],\n",
       "         [0.5732, 0.1616, 0.4561, 0.1180, 0.5783, 0.8629, 0.0914, 0.4029,\n",
       "          0.1851, 0.5804],\n",
       "         [0.1007, 0.4642, 0.4918, 0.6479, 0.9491, 0.9955, 0.6136, 0.1866,\n",
       "          0.2730, 0.4699],\n",
       "         [0.5330, 0.7661, 0.7529, 0.2963, 0.9097, 0.8562, 0.0308, 0.7850,\n",
       "          0.4716, 0.9820],\n",
       "         [0.1380, 0.0310, 0.3961, 0.4567, 0.1679, 0.9994, 0.2747, 0.1795,\n",
       "          0.1352, 0.3590],\n",
       "         [0.7196, 0.3939, 0.4059, 0.5852, 0.5703, 0.6304, 0.8419, 0.3097,\n",
       "          0.2170, 0.0078],\n",
       "         [0.4189, 0.9371, 0.0965, 0.6672, 0.7730, 0.9199, 0.0625, 0.7698,\n",
       "          0.9751, 0.5840],\n",
       "         [0.0832, 0.2917, 0.0678, 0.8260, 0.0195, 0.6109, 0.3499, 0.3435,\n",
       "          0.9701, 0.5796],\n",
       "         [0.2719, 0.8343, 0.4003, 0.7826, 0.9252, 0.6452, 0.5367, 0.8130,\n",
       "          0.8359, 0.7440]],\n",
       "\n",
       "        [[0.6778, 0.7669, 0.4638, 0.4377, 0.5856, 0.3470, 0.7607, 0.3359,\n",
       "          0.3703, 0.8009],\n",
       "         [0.8036, 0.0049, 0.4268, 0.0056, 0.4267, 0.3656, 0.9925, 0.1500,\n",
       "          0.8350, 0.6276],\n",
       "         [0.2786, 0.4457, 0.3336, 0.8441, 0.7478, 0.1762, 0.8800, 0.3973,\n",
       "          0.9241, 0.5955],\n",
       "         [0.0292, 0.7718, 0.5436, 0.9725, 0.2835, 0.0388, 0.3101, 0.7839,\n",
       "          0.7864, 0.2979],\n",
       "         [0.7305, 0.0493, 0.7927, 0.6255, 0.5891, 0.5736, 0.3250, 0.8035,\n",
       "          0.7138, 0.6290],\n",
       "         [0.4614, 0.7450, 0.8597, 0.0915, 0.1769, 0.9249, 0.5553, 0.1974,\n",
       "          0.8124, 0.8233],\n",
       "         [0.2631, 0.1039, 0.0092, 0.9511, 0.1096, 0.6872, 0.8076, 0.5723,\n",
       "          0.3431, 0.8895],\n",
       "         [0.3925, 0.8434, 0.1859, 0.1306, 0.3124, 0.5532, 0.8020, 0.1596,\n",
       "          0.1402, 0.9509],\n",
       "         [0.0798, 0.3115, 0.4117, 0.3357, 0.0039, 0.6760, 0.0917, 0.0526,\n",
       "          0.9115, 0.3938],\n",
       "         [0.1977, 0.4309, 0.0656, 0.0307, 0.5173, 0.7455, 0.2906, 0.1277,\n",
       "          0.3212, 0.5865]],\n",
       "\n",
       "        [[0.5627, 0.0140, 0.7230, 0.4416, 0.7064, 0.5790, 0.5829, 0.7872,\n",
       "          0.6008, 0.2499],\n",
       "         [0.9910, 0.1321, 0.8493, 0.8123, 0.1974, 0.3330, 0.7815, 0.1804,\n",
       "          0.7962, 0.9290],\n",
       "         [0.6891, 0.8959, 0.2403, 0.0887, 0.5955, 0.6773, 0.7115, 0.1001,\n",
       "          0.7810, 0.1420],\n",
       "         [0.8516, 0.6430, 0.5508, 0.3591, 0.3534, 0.0651, 0.5026, 0.1769,\n",
       "          0.2644, 0.6704],\n",
       "         [0.6973, 0.8848, 0.9040, 0.3769, 0.5015, 0.0542, 0.0551, 0.9005,\n",
       "          0.4822, 0.6591],\n",
       "         [0.4284, 0.6144, 0.3069, 0.8879, 0.1379, 0.0364, 0.4454, 0.3577,\n",
       "          0.9295, 0.4874],\n",
       "         [0.8263, 0.2525, 0.4660, 0.7115, 0.7984, 0.9138, 0.0493, 0.9940,\n",
       "          0.8090, 0.8230],\n",
       "         [0.4255, 0.2472, 0.4372, 0.8446, 0.1022, 0.3243, 0.1067, 0.3911,\n",
       "          0.1271, 0.9164],\n",
       "         [0.6886, 0.0953, 0.5839, 0.0988, 0.1990, 0.3551, 0.0854, 0.8536,\n",
       "          0.1663, 0.3186],\n",
       "         [0.5659, 0.3376, 0.5951, 0.0895, 0.1007, 0.4693, 0.3987, 0.1853,\n",
       "          0.7954, 0.4832]],\n",
       "\n",
       "        [[0.8031, 0.8032, 0.5834, 0.6262, 0.8728, 0.3627, 0.6735, 0.8519,\n",
       "          0.1744, 0.7661],\n",
       "         [0.9100, 0.2093, 0.9766, 0.1078, 0.8578, 0.2256, 0.7396, 0.9669,\n",
       "          0.5683, 0.6130],\n",
       "         [0.8935, 0.7660, 0.6755, 0.4068, 0.1841, 0.6569, 0.5402, 0.9613,\n",
       "          0.3382, 0.5107],\n",
       "         [0.9851, 0.5787, 0.4381, 0.1953, 0.3672, 0.4706, 0.0527, 0.7821,\n",
       "          0.4284, 0.6668],\n",
       "         [0.2065, 0.1872, 0.5598, 0.4136, 0.9846, 0.4046, 0.5079, 0.0463,\n",
       "          0.1666, 0.3339],\n",
       "         [0.8810, 0.5679, 0.0192, 0.8355, 0.7443, 0.6236, 0.1090, 0.2066,\n",
       "          0.4871, 0.4687],\n",
       "         [0.1504, 0.6747, 0.8692, 0.7161, 0.3008, 0.8055, 0.6637, 0.8660,\n",
       "          0.8390, 0.4800],\n",
       "         [0.9204, 0.1830, 0.2247, 0.9266, 0.8667, 0.6915, 0.0960, 0.4394,\n",
       "          0.9062, 0.2562],\n",
       "         [0.5129, 0.5236, 0.5751, 0.3439, 0.5860, 0.4967, 0.9987, 0.6010,\n",
       "          0.8933, 0.3172],\n",
       "         [0.7519, 0.2370, 0.7866, 0.9339, 0.3345, 0.6655, 0.2813, 0.7033,\n",
       "          0.7340, 0.1905]],\n",
       "\n",
       "        [[0.9067, 0.5690, 0.4769, 0.0940, 0.5195, 0.3834, 0.6827, 0.2712,\n",
       "          0.6260, 0.7308],\n",
       "         [0.7675, 0.3307, 0.4338, 0.5845, 0.7375, 0.2886, 0.3378, 0.9904,\n",
       "          0.3180, 0.1496],\n",
       "         [0.8477, 0.4131, 0.8061, 0.0354, 0.1924, 0.4877, 0.2915, 0.7987,\n",
       "          0.2698, 0.5877],\n",
       "         [0.6466, 0.6825, 0.5544, 0.6470, 0.7718, 0.9927, 0.6450, 0.8246,\n",
       "          0.8267, 0.3417],\n",
       "         [0.0832, 0.9641, 0.1384, 0.4155, 0.8416, 0.1438, 0.4359, 0.8154,\n",
       "          0.3317, 0.1365],\n",
       "         [0.1408, 0.1999, 0.1177, 0.6021, 0.2516, 0.0863, 0.5367, 0.5464,\n",
       "          0.3963, 0.3093],\n",
       "         [0.6368, 0.9099, 0.7870, 0.5675, 0.5368, 0.7543, 0.5784, 0.8808,\n",
       "          0.0626, 0.2887],\n",
       "         [0.9931, 0.4078, 0.3144, 0.5052, 0.5433, 0.5670, 0.8318, 0.6445,\n",
       "          0.6623, 0.7632],\n",
       "         [0.5661, 0.5000, 0.0536, 0.7733, 0.9279, 0.3317, 0.3301, 0.2360,\n",
       "          0.3708, 0.7150],\n",
       "         [0.1668, 0.0316, 0.7032, 0.7718, 0.0764, 0.8267, 0.1863, 0.2798,\n",
       "          0.8864, 0.5675]],\n",
       "\n",
       "        [[0.9676, 0.5807, 0.6799, 0.8336, 0.6316, 0.3601, 0.2248, 0.2441,\n",
       "          0.0918, 0.9752],\n",
       "         [0.1103, 0.9463, 0.5240, 0.2187, 0.2725, 0.8877, 0.5433, 0.3403,\n",
       "          0.4374, 0.8485],\n",
       "         [0.7825, 0.0384, 0.5926, 0.4877, 0.7708, 0.0142, 0.4468, 0.7818,\n",
       "          0.1457, 0.5210],\n",
       "         [0.2639, 0.1274, 0.1303, 0.8477, 0.0489, 0.4034, 0.2970, 0.1990,\n",
       "          0.2612, 0.2388],\n",
       "         [0.9516, 0.6291, 0.7103, 0.1730, 0.7005, 0.6814, 0.7670, 0.8240,\n",
       "          0.6861, 0.5787],\n",
       "         [0.7427, 0.7959, 0.5114, 0.0159, 0.4293, 0.7797, 0.8089, 0.7953,\n",
       "          0.3697, 0.8759],\n",
       "         [0.6010, 0.6033, 0.4476, 0.0047, 0.9253, 0.9891, 0.6513, 0.3862,\n",
       "          0.7041, 0.7549],\n",
       "         [0.1215, 0.9789, 0.1465, 0.1096, 0.1005, 0.3435, 0.2088, 0.3723,\n",
       "          0.5347, 0.7609],\n",
       "         [0.3910, 0.8229, 0.3597, 0.0508, 0.0922, 0.6596, 0.6175, 0.2860,\n",
       "          0.7672, 0.2356],\n",
       "         [0.3000, 0.4848, 0.4915, 0.5651, 0.7123, 0.4676, 0.6789, 0.1743,\n",
       "          0.1146, 0.6605]],\n",
       "\n",
       "        [[0.9179, 0.0301, 0.2995, 0.7223, 0.2726, 0.0320, 0.9696, 0.7484,\n",
       "          0.4002, 0.8330],\n",
       "         [0.5341, 0.4010, 0.7210, 0.1454, 0.1024, 0.6223, 0.1590, 0.3558,\n",
       "          0.2558, 0.0550],\n",
       "         [0.2821, 0.6168, 0.4609, 0.2608, 0.8687, 0.2101, 0.7469, 0.3265,\n",
       "          0.4579, 0.9187],\n",
       "         [0.1586, 0.9448, 0.2369, 0.2233, 0.4636, 0.4575, 0.5550, 0.6766,\n",
       "          0.1588, 0.8525],\n",
       "         [0.6771, 0.7490, 0.1847, 0.2651, 0.4898, 0.9124, 0.1706, 0.3023,\n",
       "          0.0715, 0.3951],\n",
       "         [0.7808, 0.6975, 0.8810, 0.7285, 0.9073, 0.4680, 0.6771, 0.0518,\n",
       "          0.5744, 0.4305],\n",
       "         [0.8935, 0.9379, 0.4698, 0.8879, 0.3110, 0.1674, 0.7017, 0.4008,\n",
       "          0.3426, 0.3754],\n",
       "         [0.8135, 0.5691, 0.5990, 0.1050, 0.3336, 0.5194, 0.5964, 0.9748,\n",
       "          0.6369, 0.2013],\n",
       "         [0.0427, 0.3453, 0.1853, 0.5221, 0.8714, 0.1848, 0.8018, 0.9986,\n",
       "          0.5583, 0.6846],\n",
       "         [0.2930, 0.1309, 0.1122, 0.3116, 0.2944, 0.2034, 0.5506, 0.9236,\n",
       "          0.9880, 0.2874]],\n",
       "\n",
       "        [[0.3424, 0.4227, 0.7497, 0.0446, 0.7099, 0.0410, 0.8521, 0.5650,\n",
       "          0.1984, 0.3300],\n",
       "         [0.2072, 0.1758, 0.5102, 0.8211, 0.6550, 0.0122, 0.1971, 0.3654,\n",
       "          0.8547, 0.5598],\n",
       "         [0.9603, 0.4416, 0.8912, 0.8262, 0.2204, 0.4859, 0.8329, 0.6056,\n",
       "          0.0801, 0.2267],\n",
       "         [0.1036, 0.6673, 0.3627, 0.9143, 0.8071, 0.4391, 0.6738, 0.5391,\n",
       "          0.7022, 0.1905],\n",
       "         [0.8468, 0.5883, 0.5661, 0.5122, 0.1016, 0.6865, 0.3121, 0.3475,\n",
       "          0.9711, 0.3135],\n",
       "         [0.0702, 0.3006, 0.8263, 0.7073, 0.6319, 0.7991, 0.6886, 0.9140,\n",
       "          0.0125, 0.0174],\n",
       "         [0.2484, 0.0621, 0.1290, 0.3534, 0.0853, 0.3023, 0.8204, 0.7635,\n",
       "          0.8539, 0.5358],\n",
       "         [0.4844, 0.1418, 0.0680, 0.0118, 0.6922, 0.5368, 0.0519, 0.0518,\n",
       "          0.1462, 0.8605],\n",
       "         [0.5673, 0.7621, 0.8190, 0.8211, 0.5689, 0.0846, 0.4258, 0.6238,\n",
       "          0.7606, 0.8227],\n",
       "         [0.6977, 0.7790, 0.9718, 0.1454, 0.8116, 0.2315, 0.5239, 0.8081,\n",
       "          0.0625, 0.4206]],\n",
       "\n",
       "        [[0.3056, 0.9421, 0.9033, 0.5788, 0.1492, 0.5230, 0.1399, 0.7334,\n",
       "          0.5299, 0.1959],\n",
       "         [0.9527, 0.7748, 0.7591, 0.7936, 0.2669, 0.0823, 0.9624, 0.8328,\n",
       "          0.9494, 0.7697],\n",
       "         [0.6492, 0.3580, 0.8800, 0.7792, 0.6581, 0.7681, 0.1113, 0.7354,\n",
       "          0.2532, 0.3139],\n",
       "         [0.2105, 0.5195, 0.6941, 0.5185, 0.0877, 0.9107, 0.5924, 0.3189,\n",
       "          0.1706, 0.4798],\n",
       "         [0.5716, 0.2680, 0.2567, 0.9249, 0.4981, 0.8328, 0.5256, 0.8787,\n",
       "          0.6071, 0.5746],\n",
       "         [0.5022, 0.9052, 0.9895, 0.3538, 0.9742, 0.3699, 0.2927, 0.9960,\n",
       "          0.2149, 0.6019],\n",
       "         [0.5834, 0.0536, 0.7991, 0.6562, 0.9758, 0.7916, 0.6317, 0.9897,\n",
       "          0.8198, 0.8207],\n",
       "         [0.7625, 0.5546, 0.1185, 0.0757, 0.1628, 0.6674, 0.8859, 0.1372,\n",
       "          0.5732, 0.1346],\n",
       "         [0.2755, 0.3432, 0.1639, 0.0464, 0.1887, 0.0896, 0.7071, 0.4808,\n",
       "          0.0563, 0.0568],\n",
       "         [0.1049, 0.0950, 0.5430, 0.2991, 0.0750, 0.3357, 0.1142, 0.6465,\n",
       "          0.2715, 0.2495]]])"
      ]
     },
     "execution_count": 173,
     "metadata": {},
     "output_type": "execute_result"
    }
   ],
   "source": [
    "# create a random\n",
    "random_tensor = torch.rand(10, 10, 10)\n",
    "random_tensor"
   ]
  },
  {
   "cell_type": "code",
   "execution_count": 174,
   "metadata": {},
   "outputs": [
    {
     "data": {
      "text/plain": [
       "3"
      ]
     },
     "execution_count": 174,
     "metadata": {},
     "output_type": "execute_result"
    }
   ],
   "source": [
    "random_tensor.ndim"
   ]
  },
  {
   "cell_type": "code",
   "execution_count": 175,
   "metadata": {},
   "outputs": [
    {
     "data": {
      "text/plain": [
       "(torch.Size([224, 224, 3]), 3)"
      ]
     },
     "execution_count": 175,
     "metadata": {},
     "output_type": "execute_result"
    }
   ],
   "source": [
    "random_image_tensor = torch.rand(size=(224, 224, 3))\n",
    "random_image_tensor.shape, random_image_tensor.ndim"
   ]
  },
  {
   "cell_type": "markdown",
   "metadata": {},
   "source": [
    "### Zeros and Ones"
   ]
  },
  {
   "cell_type": "code",
   "execution_count": 176,
   "metadata": {},
   "outputs": [
    {
     "data": {
      "text/plain": [
       "tensor([[0., 0., 0., 0.],\n",
       "        [0., 0., 0., 0.],\n",
       "        [0., 0., 0., 0.]])"
      ]
     },
     "execution_count": 176,
     "metadata": {},
     "output_type": "execute_result"
    }
   ],
   "source": [
    "# Create a tensor with all zeros\n",
    "zero = torch.zeros(3, 4)\n",
    "zero"
   ]
  },
  {
   "cell_type": "code",
   "execution_count": 177,
   "metadata": {},
   "outputs": [
    {
     "data": {
      "text/plain": [
       "tensor([[0., 0., 0., 0.],\n",
       "        [0., 0., 0., 0.],\n",
       "        [0., 0., 0., 0.]])"
      ]
     },
     "execution_count": 177,
     "metadata": {},
     "output_type": "execute_result"
    }
   ],
   "source": [
    "random_tensor = torch.rand(3, 4)\n",
    "zero * random_tensor"
   ]
  },
  {
   "cell_type": "code",
   "execution_count": 178,
   "metadata": {},
   "outputs": [
    {
     "data": {
      "text/plain": [
       "tensor([[1., 1., 1., 1.],\n",
       "        [1., 1., 1., 1.],\n",
       "        [1., 1., 1., 1.]])"
      ]
     },
     "execution_count": 178,
     "metadata": {},
     "output_type": "execute_result"
    }
   ],
   "source": [
    "# Create tensor of all ones\n",
    "ones = torch.ones(3, 4)\n",
    "ones"
   ]
  },
  {
   "cell_type": "markdown",
   "metadata": {},
   "source": [
    "### Creating a range of tensors and tensors-like"
   ]
  },
  {
   "cell_type": "code",
   "execution_count": 179,
   "metadata": {},
   "outputs": [
    {
     "data": {
      "text/plain": [
       "tensor([  0,  67, 134, 201, 268, 335, 402, 469, 536, 603, 670, 737, 804, 871,\n",
       "        938])"
      ]
     },
     "execution_count": 179,
     "metadata": {},
     "output_type": "execute_result"
    }
   ],
   "source": [
    "# Use torch.range\n",
    "torch.arange(start=0, end=1000, step=67)"
   ]
  },
  {
   "cell_type": "code",
   "execution_count": 180,
   "metadata": {},
   "outputs": [
    {
     "name": "stdout",
     "output_type": "stream",
     "text": [
      "tensor([ 1,  2,  3,  4,  5,  6,  7,  8,  9, 10])\n"
     ]
    },
    {
     "data": {
      "text/plain": [
       "tensor([0, 0, 0, 0, 0, 0, 0, 0, 0, 0])"
      ]
     },
     "execution_count": 180,
     "metadata": {},
     "output_type": "execute_result"
    }
   ],
   "source": [
    "one_to_ten = torch.arange(1, 11)\n",
    "print(one_to_ten)\n",
    "torch.zeros_like(one_to_ten)"
   ]
  },
  {
   "cell_type": "markdown",
   "metadata": {},
   "source": [
    "### Tensor Datatype"
   ]
  },
  {
   "cell_type": "code",
   "execution_count": 181,
   "metadata": {},
   "outputs": [
    {
     "data": {
      "text/plain": [
       "tensor([3., 6., 9.])"
      ]
     },
     "execution_count": 181,
     "metadata": {},
     "output_type": "execute_result"
    }
   ],
   "source": [
    "# Float 32 Dtype\n",
    "float32_tensor = torch.tensor([3., 6., 9.], dtype=None, device=None, requires_grad=False)\n",
    "float32_tensor"
   ]
  },
  {
   "cell_type": "code",
   "execution_count": 182,
   "metadata": {},
   "outputs": [
    {
     "data": {
      "text/plain": [
       "torch.float32"
      ]
     },
     "execution_count": 182,
     "metadata": {},
     "output_type": "execute_result"
    }
   ],
   "source": [
    "float32_tensor.dtype"
   ]
  },
  {
   "cell_type": "code",
   "execution_count": 183,
   "metadata": {},
   "outputs": [
    {
     "data": {
      "text/plain": [
       "tensor([3., 6., 9.], dtype=torch.float16)"
      ]
     },
     "execution_count": 183,
     "metadata": {},
     "output_type": "execute_result"
    }
   ],
   "source": [
    "float16_tensor = float32_tensor.type(torch.float16)\n",
    "float16_tensor"
   ]
  },
  {
   "cell_type": "code",
   "execution_count": 184,
   "metadata": {},
   "outputs": [
    {
     "data": {
      "text/plain": [
       "tensor([ 9., 36., 81.])"
      ]
     },
     "execution_count": 184,
     "metadata": {},
     "output_type": "execute_result"
    }
   ],
   "source": [
    "float16_tensor * float32_tensor"
   ]
  },
  {
   "cell_type": "code",
   "execution_count": 185,
   "metadata": {},
   "outputs": [
    {
     "data": {
      "text/plain": [
       "tensor([3, 6, 9])"
      ]
     },
     "execution_count": 185,
     "metadata": {},
     "output_type": "execute_result"
    }
   ],
   "source": [
    "int32_tensor = torch.tensor([3,6,9], dtype=torch.long)\n",
    "int32_tensor"
   ]
  },
  {
   "cell_type": "code",
   "execution_count": 186,
   "metadata": {},
   "outputs": [
    {
     "data": {
      "text/plain": [
       "tensor([ 9., 36., 81.])"
      ]
     },
     "execution_count": 186,
     "metadata": {},
     "output_type": "execute_result"
    }
   ],
   "source": [
    "int32_tensor * float32_tensor"
   ]
  },
  {
   "cell_type": "markdown",
   "metadata": {},
   "source": [
    "### Getting info from tensors"
   ]
  },
  {
   "cell_type": "code",
   "execution_count": 187,
   "metadata": {},
   "outputs": [
    {
     "data": {
      "text/plain": [
       "tensor([[0.0475, 0.6507, 0.9329, 0.7599],\n",
       "        [0.3590, 0.3804, 0.3120, 0.5603],\n",
       "        [0.3794, 0.2651, 0.3538, 0.7687]])"
      ]
     },
     "execution_count": 187,
     "metadata": {},
     "output_type": "execute_result"
    }
   ],
   "source": [
    "# create a tensor\n",
    "some_tensor = torch.rand(3, 4)\n",
    "some_tensor"
   ]
  },
  {
   "cell_type": "code",
   "execution_count": 188,
   "metadata": {},
   "outputs": [
    {
     "name": "stdout",
     "output_type": "stream",
     "text": [
      "tensor([[0.0475, 0.6507, 0.9329, 0.7599],\n",
      "        [0.3590, 0.3804, 0.3120, 0.5603],\n",
      "        [0.3794, 0.2651, 0.3538, 0.7687]])\n",
      "Datatype of tensor: torch.float32\n",
      "Shape of tensor: torch.Size([3, 4])\n",
      "Device tensor is on: cpu\n"
     ]
    }
   ],
   "source": [
    "# Find out details about some tensor\n",
    "print(some_tensor)\n",
    "print(f\"Datatype of tensor: {some_tensor.dtype}\")\n",
    "print(f\"Shape of tensor: {some_tensor.shape}\")\n",
    "print(f\"Device tensor is on: {some_tensor.device}\")"
   ]
  },
  {
   "cell_type": "markdown",
   "metadata": {},
   "source": [
    "### Manipulating Tensors (Tensor Operation)"
   ]
  },
  {
   "cell_type": "code",
   "execution_count": 189,
   "metadata": {},
   "outputs": [
    {
     "data": {
      "text/plain": [
       "tensor([[100.1308, 100.8909, 100.5518, 100.4296],\n",
       "        [100.3610, 100.6626, 100.1595, 100.5512],\n",
       "        [100.4217, 100.0053, 100.2962, 100.2059]])"
      ]
     },
     "execution_count": 189,
     "metadata": {},
     "output_type": "execute_result"
    }
   ],
   "source": [
    "tmp = torch.rand(3, 4)\n",
    "tmp + 100"
   ]
  },
  {
   "cell_type": "code",
   "execution_count": 190,
   "metadata": {},
   "outputs": [
    {
     "data": {
      "text/plain": [
       "tensor([[13.0830, 89.0941, 55.1780, 42.9642],\n",
       "        [36.0964, 66.2569, 15.9514, 55.1237],\n",
       "        [42.1668,  0.5324, 29.6154, 20.5855]])"
      ]
     },
     "execution_count": 190,
     "metadata": {},
     "output_type": "execute_result"
    }
   ],
   "source": [
    "tmp * 100"
   ]
  },
  {
   "cell_type": "code",
   "execution_count": 191,
   "metadata": {},
   "outputs": [
    {
     "data": {
      "text/plain": [
       "tensor([[-0.3692,  0.3909,  0.0518, -0.0704],\n",
       "        [-0.1390,  0.1626, -0.3405,  0.0512],\n",
       "        [-0.0783, -0.4947, -0.2038, -0.2941]])"
      ]
     },
     "execution_count": 191,
     "metadata": {},
     "output_type": "execute_result"
    }
   ],
   "source": [
    "tmp - 0.5"
   ]
  },
  {
   "cell_type": "markdown",
   "metadata": {},
   "source": [
    "### Matrix Multiplication"
   ]
  },
  {
   "cell_type": "code",
   "execution_count": 192,
   "metadata": {},
   "outputs": [
    {
     "data": {
      "text/plain": [
       "tensor([[0.8243, 1.6586, 1.3864],\n",
       "        [0.3404, 1.0412, 1.0763],\n",
       "        [1.0320, 1.5983, 1.2388]])"
      ]
     },
     "execution_count": 192,
     "metadata": {},
     "output_type": "execute_result"
    }
   ],
   "source": [
    "torch.matmul(torch.rand(3, 4), torch.rand(4, 3))"
   ]
  },
  {
   "cell_type": "code",
   "execution_count": 193,
   "metadata": {},
   "outputs": [
    {
     "data": {
      "text/plain": [
       "tensor([[0.6646, 0.7425, 0.7662, 1.0291],\n",
       "        [0.5050, 0.8576, 0.5039, 1.0162],\n",
       "        [0.7978, 0.7777, 0.9383, 1.1815],\n",
       "        [0.8158, 0.8413, 0.9082, 1.3672]])"
      ]
     },
     "execution_count": 193,
     "metadata": {},
     "output_type": "execute_result"
    }
   ],
   "source": [
    "tensorA = torch.rand(3, 4)\n",
    "tensorB = torch.rand(3, 4)\n",
    "torch.matmul(tensorA.T, tensorB)"
   ]
  },
  {
   "cell_type": "markdown",
   "metadata": {},
   "source": [
    "### Min & Max & Sum & Mean & etc."
   ]
  },
  {
   "cell_type": "code",
   "execution_count": 194,
   "metadata": {},
   "outputs": [
    {
     "data": {
      "text/plain": [
       "tensor([ 0, 10, 20, 30, 40, 50, 60, 70, 80, 90])"
      ]
     },
     "execution_count": 194,
     "metadata": {},
     "output_type": "execute_result"
    }
   ],
   "source": [
    "# Create a tensor\n",
    "x = torch.arange(0, 100, 10)\n",
    "x"
   ]
  },
  {
   "cell_type": "code",
   "execution_count": 195,
   "metadata": {},
   "outputs": [
    {
     "data": {
      "text/plain": [
       "(tensor(0), tensor(0))"
      ]
     },
     "execution_count": 195,
     "metadata": {},
     "output_type": "execute_result"
    }
   ],
   "source": [
    "torch.min(x), x.min()"
   ]
  },
  {
   "cell_type": "code",
   "execution_count": 196,
   "metadata": {},
   "outputs": [
    {
     "data": {
      "text/plain": [
       "(tensor(90), tensor(90))"
      ]
     },
     "execution_count": 196,
     "metadata": {},
     "output_type": "execute_result"
    }
   ],
   "source": [
    "torch.max(x), x.max()"
   ]
  },
  {
   "cell_type": "code",
   "execution_count": 197,
   "metadata": {},
   "outputs": [
    {
     "data": {
      "text/plain": [
       "tensor(45.)"
      ]
     },
     "execution_count": 197,
     "metadata": {},
     "output_type": "execute_result"
    }
   ],
   "source": [
    "torch.mean(x.type(torch.float32))"
   ]
  },
  {
   "cell_type": "code",
   "execution_count": 198,
   "metadata": {},
   "outputs": [
    {
     "data": {
      "text/plain": [
       "(tensor(450), tensor(450))"
      ]
     },
     "execution_count": 198,
     "metadata": {},
     "output_type": "execute_result"
    }
   ],
   "source": [
    "torch.sum(x), x.sum()"
   ]
  },
  {
   "cell_type": "markdown",
   "metadata": {},
   "source": [
    "### Find positional Min and Max"
   ]
  },
  {
   "cell_type": "code",
   "execution_count": 199,
   "metadata": {},
   "outputs": [
    {
     "data": {
      "text/plain": [
       "(tensor([ 0, 10, 20, 30, 40, 50, 60, 70, 80, 90]), tensor(0), tensor(9))"
      ]
     },
     "execution_count": 199,
     "metadata": {},
     "output_type": "execute_result"
    }
   ],
   "source": [
    "x, x.argmin(), x.argmax()"
   ]
  },
  {
   "cell_type": "markdown",
   "metadata": {},
   "source": [
    "### Reshaping, Stacking, Squeezing and unsqueezing tensors"
   ]
  },
  {
   "cell_type": "code",
   "execution_count": 200,
   "metadata": {},
   "outputs": [
    {
     "data": {
      "text/plain": [
       "(tensor([1, 2, 3, 4, 5, 6, 7, 8, 9]), torch.Size([9]))"
      ]
     },
     "execution_count": 200,
     "metadata": {},
     "output_type": "execute_result"
    }
   ],
   "source": [
    "import torch\n",
    "x = torch.arange(1, 10)\n",
    "x, x.shape"
   ]
  },
  {
   "cell_type": "code",
   "execution_count": 201,
   "metadata": {},
   "outputs": [
    {
     "data": {
      "text/plain": [
       "tensor([[1, 2, 3],\n",
       "        [4, 5, 6],\n",
       "        [7, 8, 9]])"
      ]
     },
     "execution_count": 201,
     "metadata": {},
     "output_type": "execute_result"
    }
   ],
   "source": [
    "x_reshaped = x.reshape(3, 3)\n",
    "x_reshaped"
   ]
  },
  {
   "cell_type": "code",
   "execution_count": 202,
   "metadata": {},
   "outputs": [
    {
     "data": {
      "text/plain": [
       "(tensor([[1, 2, 3],\n",
       "         [4, 5, 6],\n",
       "         [7, 8, 9]]),\n",
       " torch.Size([3, 3]))"
      ]
     },
     "execution_count": 202,
     "metadata": {},
     "output_type": "execute_result"
    }
   ],
   "source": [
    "z = x.view(3, 3)\n",
    "z, z.shape"
   ]
  },
  {
   "cell_type": "code",
   "execution_count": 203,
   "metadata": {},
   "outputs": [
    {
     "data": {
      "text/plain": [
       "(tensor([[5, 2, 3],\n",
       "         [5, 5, 6],\n",
       "         [5, 8, 9]]),\n",
       " tensor([5, 2, 3, 5, 5, 6, 5, 8, 9]))"
      ]
     },
     "execution_count": 203,
     "metadata": {},
     "output_type": "execute_result"
    }
   ],
   "source": [
    "z[:, 0] = 5\n",
    "z, x"
   ]
  },
  {
   "cell_type": "code",
   "execution_count": 204,
   "metadata": {},
   "outputs": [
    {
     "data": {
      "text/plain": [
       "tensor([[5, 5, 5, 5],\n",
       "        [2, 2, 2, 2],\n",
       "        [3, 3, 3, 3],\n",
       "        [5, 5, 5, 5],\n",
       "        [5, 5, 5, 5],\n",
       "        [6, 6, 6, 6],\n",
       "        [5, 5, 5, 5],\n",
       "        [8, 8, 8, 8],\n",
       "        [9, 9, 9, 9]])"
      ]
     },
     "execution_count": 204,
     "metadata": {},
     "output_type": "execute_result"
    }
   ],
   "source": [
    "x_stacked = torch.stack([x, x, x, x], dim=1)\n",
    "x_stacked"
   ]
  },
  {
   "cell_type": "code",
   "execution_count": 205,
   "metadata": {},
   "outputs": [
    {
     "data": {
      "text/plain": [
       "tensor([[5, 2, 3, 5, 5, 6, 5, 8, 9]])"
      ]
     },
     "execution_count": 205,
     "metadata": {},
     "output_type": "execute_result"
    }
   ],
   "source": [
    "x_reshaped = x.reshape(1, 9)\n",
    "x_reshaped"
   ]
  },
  {
   "cell_type": "code",
   "execution_count": 206,
   "metadata": {},
   "outputs": [
    {
     "data": {
      "text/plain": [
       "(tensor([5, 2, 3, 5, 5, 6, 5, 8, 9]), torch.Size([9]))"
      ]
     },
     "execution_count": 206,
     "metadata": {},
     "output_type": "execute_result"
    }
   ],
   "source": [
    "x_reshaped.squeeze(), x_reshaped.squeeze().shape"
   ]
  },
  {
   "cell_type": "code",
   "execution_count": 207,
   "metadata": {},
   "outputs": [
    {
     "data": {
      "text/plain": [
       "tensor([[5],\n",
       "        [2],\n",
       "        [3],\n",
       "        [5],\n",
       "        [5],\n",
       "        [6],\n",
       "        [5],\n",
       "        [8],\n",
       "        [9]])"
      ]
     },
     "execution_count": 207,
     "metadata": {},
     "output_type": "execute_result"
    }
   ],
   "source": [
    "x_squeezed = x_reshaped.squeeze()\n",
    "x_unsqueezed = x_squeezed.unsqueeze(dim=1)\n",
    "x_unsqueezed"
   ]
  },
  {
   "cell_type": "code",
   "execution_count": 208,
   "metadata": {},
   "outputs": [
    {
     "data": {
      "text/plain": [
       "torch.Size([224, 224, 3])"
      ]
     },
     "execution_count": 208,
     "metadata": {},
     "output_type": "execute_result"
    }
   ],
   "source": [
    "x = torch.rand(224, 224, 3)\n",
    "x.size()"
   ]
  },
  {
   "cell_type": "code",
   "execution_count": 209,
   "metadata": {},
   "outputs": [
    {
     "data": {
      "text/plain": [
       "torch.Size([3, 224, 224])"
      ]
     },
     "execution_count": 209,
     "metadata": {},
     "output_type": "execute_result"
    }
   ],
   "source": [
    "torch.permute(x, (2, 0, 1)).shape"
   ]
  },
  {
   "cell_type": "markdown",
   "metadata": {},
   "source": [
    "### Indexing"
   ]
  },
  {
   "cell_type": "code",
   "execution_count": 210,
   "metadata": {},
   "outputs": [
    {
     "data": {
      "text/plain": [
       "(tensor([[[1, 2, 3],\n",
       "          [4, 5, 6],\n",
       "          [7, 8, 9]]]),\n",
       " torch.Size([1, 3, 3]))"
      ]
     },
     "execution_count": 210,
     "metadata": {},
     "output_type": "execute_result"
    }
   ],
   "source": [
    "import torch\n",
    "x = torch.arange(1, 10).reshape(1, 3, 3)\n",
    "x, x.shape"
   ]
  },
  {
   "cell_type": "code",
   "execution_count": 211,
   "metadata": {},
   "outputs": [
    {
     "data": {
      "text/plain": [
       "tensor([[1, 2, 3],\n",
       "        [4, 5, 6],\n",
       "        [7, 8, 9]])"
      ]
     },
     "execution_count": 211,
     "metadata": {},
     "output_type": "execute_result"
    }
   ],
   "source": [
    "# index\n",
    "x[0]"
   ]
  },
  {
   "cell_type": "code",
   "execution_count": 212,
   "metadata": {},
   "outputs": [
    {
     "data": {
      "text/plain": [
       "tensor([1, 2, 3])"
      ]
     },
     "execution_count": 212,
     "metadata": {},
     "output_type": "execute_result"
    }
   ],
   "source": [
    "x[0][0]"
   ]
  },
  {
   "cell_type": "code",
   "execution_count": 213,
   "metadata": {},
   "outputs": [
    {
     "data": {
      "text/plain": [
       "tensor([1])"
      ]
     },
     "execution_count": 213,
     "metadata": {},
     "output_type": "execute_result"
    }
   ],
   "source": [
    "x[:, 0, 0]"
   ]
  },
  {
   "cell_type": "code",
   "execution_count": 214,
   "metadata": {},
   "outputs": [
    {
     "data": {
      "text/plain": [
       "(array([1., 2., 3., 4., 5., 6., 7., 8., 9.]),\n",
       " tensor([1., 2., 3., 4., 5., 6., 7., 8., 9.]))"
      ]
     },
     "execution_count": 214,
     "metadata": {},
     "output_type": "execute_result"
    }
   ],
   "source": [
    "import torch\n",
    "import numpy as np\n",
    "arr = np.arange(1., 10.)\n",
    "tensor = torch.from_numpy(arr).type(torch.float32)\n",
    "arr, tensor"
   ]
  },
  {
   "cell_type": "code",
   "execution_count": 215,
   "metadata": {},
   "outputs": [
    {
     "data": {
      "text/plain": [
       "(array([ 2.,  3.,  4.,  5.,  6.,  7.,  8.,  9., 10.]),\n",
       " tensor([1., 2., 3., 4., 5., 6., 7., 8., 9.]))"
      ]
     },
     "execution_count": 215,
     "metadata": {},
     "output_type": "execute_result"
    }
   ],
   "source": [
    "arr = arr + 1\n",
    "arr, tensor"
   ]
  },
  {
   "cell_type": "code",
   "execution_count": 216,
   "metadata": {},
   "outputs": [
    {
     "data": {
      "text/plain": [
       "(tensor([1., 1., 1., 1., 1., 1., 1., 1.]),\n",
       " array([1., 1., 1., 1., 1., 1., 1., 1.], dtype=float32))"
      ]
     },
     "execution_count": 216,
     "metadata": {},
     "output_type": "execute_result"
    }
   ],
   "source": [
    "# Tensor to Numpy\n",
    "tensor = torch.ones(8)\n",
    "numpy_tensor = tensor.numpy()\n",
    "tensor, numpy_tensor"
   ]
  },
  {
   "cell_type": "code",
   "execution_count": 217,
   "metadata": {},
   "outputs": [
    {
     "data": {
      "text/plain": [
       "(tensor([2., 2., 2., 2., 2., 2., 2., 2.]),\n",
       " array([1., 1., 1., 1., 1., 1., 1., 1.], dtype=float32))"
      ]
     },
     "execution_count": 217,
     "metadata": {},
     "output_type": "execute_result"
    }
   ],
   "source": [
    "tensor = tensor * 2\n",
    "tensor, numpy_tensor"
   ]
  },
  {
   "cell_type": "markdown",
   "metadata": {},
   "source": [
    "### Reproducbility"
   ]
  },
  {
   "cell_type": "code",
   "execution_count": 218,
   "metadata": {},
   "outputs": [
    {
     "data": {
      "text/plain": [
       "(tensor([[0.4489, 0.2849, 0.6123, 0.2507],\n",
       "         [0.4809, 0.3570, 0.7793, 0.4519],\n",
       "         [0.1917, 0.6357, 0.3017, 0.5383]]),\n",
       " tensor([[0.2576, 0.3461, 0.6841, 0.3127],\n",
       "         [0.3545, 0.1745, 0.9540, 0.3545],\n",
       "         [0.8928, 0.4842, 0.9862, 0.5088]]),\n",
       " tensor([[False, False, False, False],\n",
       "         [False, False, False, False],\n",
       "         [False, False, False, False]]))"
      ]
     },
     "execution_count": 218,
     "metadata": {},
     "output_type": "execute_result"
    }
   ],
   "source": [
    "import torch\n",
    "randA = torch.rand(3, 4)\n",
    "randB = torch.rand(3, 4)\n",
    "randA, randB, randA == randB"
   ]
  },
  {
   "cell_type": "code",
   "execution_count": 219,
   "metadata": {},
   "outputs": [
    {
     "data": {
      "text/plain": [
       "tensor([[True, True, True, True],\n",
       "        [True, True, True, True],\n",
       "        [True, True, True, True]])"
      ]
     },
     "execution_count": 219,
     "metadata": {},
     "output_type": "execute_result"
    }
   ],
   "source": [
    "# Random and reproducible tensors\n",
    "import torch\n",
    "RANDOM_SEED = 114514\n",
    "torch.manual_seed(RANDOM_SEED)\n",
    "randA = torch.rand(3, 4)\n",
    "torch.manual_seed(RANDOM_SEED)\n",
    "randB = torch.rand(3, 4)\n",
    "randA == randB"
   ]
  },
  {
   "cell_type": "markdown",
   "metadata": {},
   "source": [
    "### Running tensors on GPUs"
   ]
  },
  {
   "cell_type": "code",
   "execution_count": 220,
   "metadata": {},
   "outputs": [
    {
     "data": {
      "text/plain": [
       "True"
      ]
     },
     "execution_count": 220,
     "metadata": {},
     "output_type": "execute_result"
    }
   ],
   "source": [
    "import torch\n",
    "torch.cuda.is_available()"
   ]
  },
  {
   "cell_type": "code",
   "execution_count": 221,
   "metadata": {},
   "outputs": [
    {
     "data": {
      "text/plain": [
       "'cuda'"
      ]
     },
     "execution_count": 221,
     "metadata": {},
     "output_type": "execute_result"
    }
   ],
   "source": [
    "device = \"cuda\" if torch.cuda.is_available() else \"cpu\"\n",
    "device"
   ]
  },
  {
   "cell_type": "code",
   "execution_count": 222,
   "metadata": {},
   "outputs": [
    {
     "data": {
      "text/plain": [
       "1"
      ]
     },
     "execution_count": 222,
     "metadata": {},
     "output_type": "execute_result"
    }
   ],
   "source": [
    "torch.cuda.device_count()"
   ]
  },
  {
   "cell_type": "markdown",
   "metadata": {},
   "source": [
    "### Put tensors on GPU"
   ]
  },
  {
   "cell_type": "code",
   "execution_count": 223,
   "metadata": {},
   "outputs": [
    {
     "data": {
      "text/plain": [
       "tensor([1., 2., 3.], device='cuda:0')"
      ]
     },
     "execution_count": 223,
     "metadata": {},
     "output_type": "execute_result"
    }
   ],
   "source": [
    "tensor = torch.tensor([1., 2., 3.])\n",
    "tensorOnGPU = tensor.to(device)\n",
    "tensorOnGPU"
   ]
  },
  {
   "cell_type": "code",
   "execution_count": 224,
   "metadata": {},
   "outputs": [
    {
     "data": {
      "text/plain": [
       "array([1., 2., 3.], dtype=float32)"
      ]
     },
     "execution_count": 224,
     "metadata": {},
     "output_type": "execute_result"
    }
   ],
   "source": [
    "# move back to cpu\n",
    "tensorOnCPU = tensorOnGPU.to(\"cpu\")\n",
    "tensorOnCPU.numpy()"
   ]
  }
 ],
 "metadata": {
  "kernelspec": {
   "display_name": "base",
   "language": "python",
   "name": "python3"
  },
  "language_info": {
   "codemirror_mode": {
    "name": "ipython",
    "version": 3
   },
   "file_extension": ".py",
   "mimetype": "text/x-python",
   "name": "python",
   "nbconvert_exporter": "python",
   "pygments_lexer": "ipython3",
   "version": "3.11.5"
  }
 },
 "nbformat": 4,
 "nbformat_minor": 2
}
